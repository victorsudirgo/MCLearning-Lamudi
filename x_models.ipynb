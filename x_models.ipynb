{
 "cells": [
  {
   "cell_type": "code",
   "execution_count": 1,
   "id": "8acbf061-be8c-4cd1-8518-77a85e213505",
   "metadata": {},
   "outputs": [],
   "source": [
    "import pandas as pd\n",
    "import numpy as np\n",
    "import matplotlib.pyplot as plt\n",
    "\n",
    "from sklearn.model_selection import RandomizedSearchCV\n",
    "from sklearn import datasets, metrics\n",
    "from sklearn.model_selection import train_test_split\n",
    "from sklearn.ensemble import RandomForestRegressor\n",
    "from sklearn.linear_model import LinearRegression\n",
    "from sklearn.ensemble import GradientBoostingRegressor\n"
   ]
  },
  {
   "cell_type": "code",
   "execution_count": 2,
   "id": "81b2ee71-d2d8-4fb8-b399-622ceea99d59",
   "metadata": {},
   "outputs": [],
   "source": [
    "df = pd.read_csv('clean_lamudi_tangsel.csv')"
   ]
  },
  {
   "cell_type": "code",
   "execution_count": 3,
   "id": "862d6b81-6ba6-477b-a092-0353ed0b4752",
   "metadata": {},
   "outputs": [],
   "source": [
    "df = df.drop(['lokasi','title'], axis=1)\n",
    "x = df.drop('harga', axis=1)\n",
    "y = df[['harga']]\n",
    "xTrain, xValid, yTrain, yValid = train_test_split(x,y, test_size = 0.2)"
   ]
  },
  {
   "cell_type": "code",
   "execution_count": null,
   "id": "f59684ac-77bd-4a30-a76c-cf66562b1388",
   "metadata": {},
   "outputs": [],
   "source": [
    "#RandomizedSearchCV Hyperparameters\n",
    "\n",
    "from sklearn.model_selection import RandomizedSearchCV\n",
    "# Number of trees in random forest\n",
    "n_estimators = [int(x) for x in np.linspace(start = 200, stop = 2000, num = 10)]\n",
    "# Number of features to consider at every split\n",
    "max_features = ['auto', 'sqrt']\n",
    "# Maximum number of levels in tree\n",
    "max_depth = [int(x) for x in np.linspace(10, 110, num = 11)]\n",
    "max_depth.append(None)\n",
    "# Minimum number of samples required to split a node\n",
    "min_samples_split = [2, 5, 10]\n",
    "# Minimum number of samples required at each leaf node\n",
    "min_samples_leaf = [1, 2, 4]\n",
    "# Method of selecting samples for training each tree\n",
    "bootstrap = [True, False]\n",
    "# Create the random grid\n",
    "random_grid = {'n_estimators': n_estimators,\n",
    "               'max_features': max_features,\n",
    "               'max_depth': max_depth,\n",
    "               'min_samples_split': min_samples_split,\n",
    "               'min_samples_leaf': min_samples_leaf,\n",
    "               'bootstrap': bootstrap}\n",
    "print(random_grid)"
   ]
  },
  {
   "cell_type": "code",
   "execution_count": null,
   "id": "5dfc80a4-0bd9-4f0e-b6e0-7e77f50d5c24",
   "metadata": {},
   "outputs": [],
   "source": [
    "#RSCV processing\n",
    "regressor = RandomForestRegressor()\n",
    "\n",
    "rf_random = RandomizedSearchCV(estimator = regressor, param_distributions = random_grid, n_iter = 100, cv = 3, verbose= 2, random_state=12435, n_jobs = -1)\n",
    "\n",
    "rf_random.fit(xTrain, yTrain)"
   ]
  },
  {
   "cell_type": "code",
   "execution_count": null,
   "id": "f51d2648-5cf2-40b1-890a-81fbae4c5260",
   "metadata": {},
   "outputs": [],
   "source": [
    "#Best parameter from RSCV\n",
    "rf_random.best_params_\n",
    "rf_random.best_score_"
   ]
  },
  {
   "cell_type": "code",
   "execution_count": 8,
   "id": "46ca5621-3896-4986-ba7a-fdfe12720726",
   "metadata": {},
   "outputs": [],
   "source": [
    "num_estimators = [500,1000]\n",
    "learn_rates = [0.02, 0.05]\n",
    "max_depths = [1, 2]\n",
    "min_samples_leaf = [5,10]\n",
    "min_samples_split = [5,10]\n",
    "\n",
    "param_grid = {'n_estimators': num_estimators,\n",
    "              'learning_rate': learn_rates,\n",
    "              'max_depth': max_depths,\n",
    "              'min_samples_leaf': min_samples_leaf,\n",
    "              'min_samples_split': min_samples_split}\n",
    "\n",
    "random_search =RandomizedSearchCV(GradientBoostingRegressor(loss='huber'), param_grid, random_state=1, n_iter=100, cv=5, verbose=0, n_jobs=-1)"
   ]
  },
  {
   "cell_type": "code",
   "execution_count": 10,
   "id": "49322ca8-c57c-43db-a3ba-20cc0f385f9a",
   "metadata": {},
   "outputs": [
    {
     "name": "stderr",
     "output_type": "stream",
     "text": [
      "C:\\Users\\User\\anaconda3\\lib\\site-packages\\sklearn\\model_selection\\_search.py:292: UserWarning: The total space of parameters 32 is smaller than n_iter=100. Running 32 iterations. For exhaustive searches, use GridSearchCV.\n",
      "  warnings.warn(\n",
      "C:\\Users\\User\\anaconda3\\lib\\site-packages\\sklearn\\ensemble\\_gb.py:494: DataConversionWarning: A column-vector y was passed when a 1d array was expected. Please change the shape of y to (n_samples, ), for example using ravel().\n",
      "  y = column_or_1d(y, warn=True)\n"
     ]
    },
    {
     "data": {
      "text/plain": [
       "RandomizedSearchCV(cv=5, estimator=GradientBoostingRegressor(loss='huber'),\n",
       "                   n_iter=100, n_jobs=-1,\n",
       "                   param_distributions={'learning_rate': [0.02, 0.05],\n",
       "                                        'max_depth': [1, 2],\n",
       "                                        'min_samples_leaf': [5, 10],\n",
       "                                        'min_samples_split': [5, 10],\n",
       "                                        'n_estimators': [500, 1000]},\n",
       "                   random_state=1)"
      ]
     },
     "execution_count": 10,
     "metadata": {},
     "output_type": "execute_result"
    }
   ],
   "source": [
    "random_search.fit(xTrain, yTrain)"
   ]
  },
  {
   "cell_type": "code",
   "execution_count": 13,
   "id": "0e24112b-d10d-4c7b-814a-fd80fc56df74",
   "metadata": {},
   "outputs": [
    {
     "data": {
      "text/plain": [
       "{'n_estimators': 1000,\n",
       " 'min_samples_split': 10,\n",
       " 'min_samples_leaf': 5,\n",
       " 'max_depth': 2,\n",
       " 'learning_rate': 0.05}"
      ]
     },
     "execution_count": 13,
     "metadata": {},
     "output_type": "execute_result"
    }
   ],
   "source": [
    "random_search.best_params_"
   ]
  },
  {
   "cell_type": "code",
   "execution_count": 4,
   "id": "2c249955-5da0-43ac-9938-bb11776ed9c9",
   "metadata": {},
   "outputs": [],
   "source": [
    "regressor = GradientBoostingRegressor(loss = 'huber', n_estimators = 1000, learning_rate = 0.05, min_samples_split = 10, min_samples_leaf = 5, max_depth = 2, random_state = 42)"
   ]
  },
  {
   "cell_type": "code",
   "execution_count": 5,
   "id": "0cfe5e34-cb85-4088-906a-241430f2368d",
   "metadata": {},
   "outputs": [
    {
     "name": "stderr",
     "output_type": "stream",
     "text": [
      "C:\\Users\\User\\anaconda3\\lib\\site-packages\\sklearn\\ensemble\\_gb.py:494: DataConversionWarning: A column-vector y was passed when a 1d array was expected. Please change the shape of y to (n_samples, ), for example using ravel().\n",
      "  y = column_or_1d(y, warn=True)\n"
     ]
    },
    {
     "data": {
      "text/plain": [
       "GradientBoostingRegressor(learning_rate=0.05, loss='huber', max_depth=2,\n",
       "                          min_samples_leaf=5, min_samples_split=10,\n",
       "                          n_estimators=1000, random_state=42)"
      ]
     },
     "execution_count": 5,
     "metadata": {},
     "output_type": "execute_result"
    }
   ],
   "source": [
    "regressor.fit(xTrain, yTrain)"
   ]
  },
  {
   "cell_type": "code",
   "execution_count": 6,
   "id": "3d7e1b82-cb3b-404a-84d3-3e1cca6118c3",
   "metadata": {},
   "outputs": [
    {
     "data": {
      "text/plain": [
       "0.8443311829704846"
      ]
     },
     "execution_count": 6,
     "metadata": {},
     "output_type": "execute_result"
    }
   ],
   "source": [
    "regressor.score(xValid, yValid)"
   ]
  },
  {
   "cell_type": "code",
   "execution_count": 21,
   "id": "4657b7fe-5376-4b07-9676-fe2bd461c5a3",
   "metadata": {},
   "outputs": [
    {
     "data": {
      "text/plain": [
       "0.8244891922694493"
      ]
     },
     "execution_count": 21,
     "metadata": {},
     "output_type": "execute_result"
    }
   ],
   "source": [
    "random_search.score(xValid, yValid)"
   ]
  },
  {
   "cell_type": "code",
   "execution_count": 20,
   "id": "0c0bc426-3a82-4945-abc6-43960ad532fa",
   "metadata": {},
   "outputs": [
    {
     "data": {
      "text/plain": [
       "<BarContainer object of 10 artists>"
      ]
     },
     "execution_count": 20,
     "metadata": {},
     "output_type": "execute_result"
    },
    {
     "data": {
      "image/png": "[encoded data removed]",
      "text/plain": [
       "<Figure size 640x480 with 1 Axes>"
      ]
     },
     "metadata": {},
     "output_type": "display_data"
    }
   ],
   "source": [
    "df_feature = df.drop('harga', axis = 1)\n",
    "plt.barh(df_feature.columns.tolist(), regressor.feature_importances_)"
   ]
  },
  {
   "cell_type": "code",
   "execution_count": 17,
   "id": "2573ce03-9cdd-4fec-92ed-db642b1127dd",
   "metadata": {},
   "outputs": [],
   "source": []
  }
 ],
 "metadata": {
  "kernelspec": {
   "display_name": "Python 3 (ipykernel)",
   "language": "python",
   "name": "python3"
  },
  "language_info": {
   "codemirror_mode": {
    "name": "ipython",
    "version": 3
   },
   "file_extension": ".py",
   "mimetype": "text/x-python",
   "name": "python",
   "nbconvert_exporter": "python",
   "pygments_lexer": "ipython3",
   "version": "3.9.13"
  }
 },
 "nbformat": 4,
 "nbformat_minor": 5
}
