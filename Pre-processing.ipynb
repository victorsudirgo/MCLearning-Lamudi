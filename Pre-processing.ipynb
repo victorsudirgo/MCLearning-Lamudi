{
 "cells": [
  {
   "cell_type": "code",
   "execution_count": 2,
   "id": "fbbf9a16-61ce-4835-ac06-86f7d309ef69",
   "metadata": {},
   "outputs": [],
   "source": [
    "import pandas as pd\n",
    "import numpy as np"
   ]
  },
  {
   "cell_type": "code",
   "execution_count": 3,
   "id": "674a127b-1581-44bf-9df6-aa8bb2892142",
   "metadata": {},
   "outputs": [],
   "source": [
    "df = pd.concat(\n",
    "    map(pd.read_csv, ['raw_lamudi_bsd1.csv', 'raw_lamudi_bsd2.csv','raw_lamudi_bsd3.csv','raw_lamudi_bsd4.csv','raw_lamudi_bsd5.csv','raw_lamudi_bsd6.csv']), ignore_index=True)"
   ]
  },
  {
   "cell_type": "code",
   "execution_count": 239,
   "id": "43c55596-d40f-45c5-963d-d2c4d13379f6",
   "metadata": {},
   "outputs": [],
   "source": [
    "#df = pd.read_csv('lamudi_bsd1.csv')"
   ]
  },
  {
   "cell_type": "code",
   "execution_count": 240,
   "id": "a76bd9e2-dfa0-4058-91d1-f3868e1a00ca",
   "metadata": {},
   "outputs": [],
   "source": [
    "df.columns = df.columns.str.replace('lb', 'building_size')"
   ]
  },
  {
   "cell_type": "code",
   "execution_count": 4,
   "id": "06140b20-866f-4123-8990-153a0769f8a7",
   "metadata": {},
   "outputs": [
    {
     "name": "stdout",
     "output_type": "stream",
     "text": [
      "<class 'pandas.core.frame.DataFrame'>\n",
      "RangeIndex: 18000 entries, 0 to 17999\n",
      "Data columns (total 13 columns):\n",
      " #   Column          Non-Null Count  Dtype  \n",
      "---  ------          --------------  -----  \n",
      " 0   title           18000 non-null  object \n",
      " 1   bedrooms        17986 non-null  float64\n",
      " 2   bathrooms       17980 non-null  float64\n",
      " 3   car_spaces      8842 non-null   float64\n",
      " 4   land_size       17897 non-null  float64\n",
      " 5   building_size   17842 non-null  float64\n",
      " 6   multiple_floor  3988 non-null   float64\n",
      " 7   issecurity      18000 non-null  int64  \n",
      " 8   isgarden        18000 non-null  int64  \n",
      " 9   isbalcony       18000 non-null  int64  \n",
      " 10  iscourtyard     18000 non-null  int64  \n",
      " 11  lokasi          17817 non-null  object \n",
      " 12  harga           17992 non-null  object \n",
      "dtypes: float64(6), int64(4), object(3)\n",
      "memory usage: 1.8+ MB\n"
     ]
    }
   ],
   "source": [
    "df.info()"
   ]
  },
  {
   "cell_type": "code",
   "execution_count": 5,
   "id": "5cb57f3a-d8ed-47bb-9287-d5a769866fd5",
   "metadata": {},
   "outputs": [],
   "source": [
    "df = df.drop_duplicates(subset='title')"
   ]
  },
  {
   "cell_type": "code",
   "execution_count": 6,
   "id": "928b1182-d53a-46b7-b2d9-aa61d36dbc71",
   "metadata": {},
   "outputs": [],
   "source": [
    "df['multiple_floor'] = df['multiple_floor'].fillna('1')\n",
    "df['car_spaces'] = df['car_spaces'].fillna('1')"
   ]
  },
  {
   "cell_type": "code",
   "execution_count": 7,
   "id": "60e998af-befb-42ad-b30f-693fe47fb601",
   "metadata": {},
   "outputs": [],
   "source": [
    "df['car_spaces'] = df['car_spaces'].fillna(1)"
   ]
  },
  {
   "cell_type": "code",
   "execution_count": 8,
   "id": "0294f7aa-12e3-48bf-9e5a-a11e525997ce",
   "metadata": {},
   "outputs": [],
   "source": [
    "#df['isbalcony'] = df['isbalcony'].astype(float)\n",
    "#df['iscourtyard'] = df['iscourtyard'].astype(float)\n",
    "#df['isgarden'] = df['isgarden'].astype(float)\n",
    "#df['issecurity'] = df['issecurity'].astype(float)\n",
    "df['multiple_floor'] = df['multiple_floor'].astype(float)\n",
    "df['car_spaces'] = df['car_spaces'].astype(float)\n",
    "df['land_size'] = df['land_size'].astype(float)"
   ]
  },
  {
   "cell_type": "code",
   "execution_count": 9,
   "id": "741c6895-bdb3-452a-9ca0-f1e0beaa8baf",
   "metadata": {},
   "outputs": [],
   "source": [
    "df = df.dropna()"
   ]
  },
  {
   "cell_type": "code",
   "execution_count": 10,
   "id": "92f4849d-1d61-4df6-9433-8fb46fc13cf6",
   "metadata": {},
   "outputs": [
    {
     "name": "stderr",
     "output_type": "stream",
     "text": [
      "C:\\Users\\User\\AppData\\Local\\Temp\\ipykernel_1104\\3012192716.py:2: FutureWarning: The default value of regex will change from True to False in a future version. In addition, single character regular expressions will *not* be treated as literal strings when regex=True.\n",
      "  df['harga'] = df['harga'].str.replace('.','')\n"
     ]
    }
   ],
   "source": [
    "df['harga'] = df['harga'].str[3:]\n",
    "df['harga'] = df['harga'].str.replace('.','')\n",
    "df['harga'] = df['harga'].astype(float)"
   ]
  },
  {
   "cell_type": "code",
   "execution_count": 248,
   "id": "a27efebb-af29-4f9f-956c-bbb80d9b1a9e",
   "metadata": {},
   "outputs": [],
   "source": [
    "#a = np.array(df['multiple_floor'].values.tolist())\n",
    "#df['multiple_floor'] = np.where(a > 1, 1, 0).tolist()\n",
    "df = df[df['land_size'] < 300]\n",
    "df = df[df['building_size'] < 300]\n",
    "df = df[df['car_spaces'] < 10]\n",
    "df = df[df['bedrooms'] < 5] \n",
    "df = df[df['bathrooms'] < 5] \n",
    "df = df[df['multiple_floor'] < 5] "
   ]
  },
  {
   "cell_type": "code",
   "execution_count": 11,
   "id": "75650886-d95e-45ad-b6a2-39862f210082",
   "metadata": {},
   "outputs": [],
   "source": [
    "df.to_csv('clean_lamudi_tangsel.csv', index=False)"
   ]
  },
  {
   "cell_type": "code",
   "execution_count": 10,
   "id": "60c239bd-9f4d-4def-ab00-e997412cf025",
   "metadata": {},
   "outputs": [
    {
     "data": {
      "text/html": [
       "<div>\n",
       "<style scoped>\n",
       "    .dataframe tbody tr th:only-of-type {\n",
       "        vertical-align: middle;\n",
       "    }\n",
       "\n",
       "    .dataframe tbody tr th {\n",
       "        vertical-align: top;\n",
       "    }\n",
       "\n",
       "    .dataframe thead th {\n",
       "        text-align: right;\n",
       "    }\n",
       "</style>\n",
       "<table border=\"1\" class=\"dataframe\">\n",
       "  <thead>\n",
       "    <tr style=\"text-align: right;\">\n",
       "      <th></th>\n",
       "      <th>title</th>\n",
       "      <th>bedrooms</th>\n",
       "      <th>bathrooms</th>\n",
       "      <th>car_spaces</th>\n",
       "      <th>land_size</th>\n",
       "      <th>building_size</th>\n",
       "      <th>multiple_floor</th>\n",
       "      <th>issecurity</th>\n",
       "      <th>isgarden</th>\n",
       "      <th>isbalcony</th>\n",
       "      <th>iscourtyard</th>\n",
       "      <th>lokasi</th>\n",
       "      <th>harga</th>\n",
       "    </tr>\n",
       "  </thead>\n",
       "  <tbody>\n",
       "    <tr>\n",
       "      <th>0</th>\n",
       "      <td>Rumah Minimalis Strategis Dekat Gading Serpong...</td>\n",
       "      <td>3.0</td>\n",
       "      <td>2.0</td>\n",
       "      <td>1.0</td>\n",
       "      <td>60.0</td>\n",
       "      <td>72.0</td>\n",
       "      <td>1.0</td>\n",
       "      <td>1</td>\n",
       "      <td>0</td>\n",
       "      <td>0</td>\n",
       "      <td>0</td>\n",
       "      <td>Di lelang cesy cluster delima alsut tangerang</td>\n",
       "      <td>535000000.0</td>\n",
       "    </tr>\n",
       "    <tr>\n",
       "      <th>1</th>\n",
       "      <td>Rumah Strategis Harga All In Bisa Nego Dekat G...</td>\n",
       "      <td>3.0</td>\n",
       "      <td>2.0</td>\n",
       "      <td>1.0</td>\n",
       "      <td>60.0</td>\n",
       "      <td>72.0</td>\n",
       "      <td>1.0</td>\n",
       "      <td>1</td>\n",
       "      <td>0</td>\n",
       "      <td>0</td>\n",
       "      <td>0</td>\n",
       "      <td>Rumah Minimalis Strategis Dekat Gading Serpong...</td>\n",
       "      <td>535000000.0</td>\n",
       "    </tr>\n",
       "    <tr>\n",
       "      <th>2</th>\n",
       "      <td>Rumah Strategis di Graha Raflesia Citra Raya S...</td>\n",
       "      <td>2.0</td>\n",
       "      <td>2.0</td>\n",
       "      <td>1.0</td>\n",
       "      <td>72.0</td>\n",
       "      <td>40.0</td>\n",
       "      <td>1.0</td>\n",
       "      <td>1</td>\n",
       "      <td>1</td>\n",
       "      <td>0</td>\n",
       "      <td>1</td>\n",
       "      <td>Rumah Strategis Harga All In Bisa Nego Dekat G...</td>\n",
       "      <td>630000000.0</td>\n",
       "    </tr>\n",
       "    <tr>\n",
       "      <th>3</th>\n",
       "      <td>Rumah Minimalis Strategis di Perum Griya Surad...</td>\n",
       "      <td>3.0</td>\n",
       "      <td>2.0</td>\n",
       "      <td>1.0</td>\n",
       "      <td>72.0</td>\n",
       "      <td>144.0</td>\n",
       "      <td>2.0</td>\n",
       "      <td>1</td>\n",
       "      <td>0</td>\n",
       "      <td>1</td>\n",
       "      <td>0</td>\n",
       "      <td>Rumah Strategis di Graha Raflesia Citra Raya S...</td>\n",
       "      <td>840000000.0</td>\n",
       "    </tr>\n",
       "    <tr>\n",
       "      <th>4</th>\n",
       "      <td>Rumah 2 Lantai di Citra Prima Serpong Siap Hun...</td>\n",
       "      <td>3.0</td>\n",
       "      <td>2.0</td>\n",
       "      <td>1.0</td>\n",
       "      <td>72.0</td>\n",
       "      <td>144.0</td>\n",
       "      <td>2.0</td>\n",
       "      <td>1</td>\n",
       "      <td>1</td>\n",
       "      <td>1</td>\n",
       "      <td>0</td>\n",
       "      <td>Rumah Minimalis Strategis di Perum Griya Surad...</td>\n",
       "      <td>960000000.0</td>\n",
       "    </tr>\n",
       "  </tbody>\n",
       "</table>\n",
       "</div>"
      ],
      "text/plain": [
       "                                               title  bedrooms  bathrooms  \\\n",
       "0  Rumah Minimalis Strategis Dekat Gading Serpong...       3.0        2.0   \n",
       "1  Rumah Strategis Harga All In Bisa Nego Dekat G...       3.0        2.0   \n",
       "2  Rumah Strategis di Graha Raflesia Citra Raya S...       2.0        2.0   \n",
       "3  Rumah Minimalis Strategis di Perum Griya Surad...       3.0        2.0   \n",
       "4  Rumah 2 Lantai di Citra Prima Serpong Siap Hun...       3.0        2.0   \n",
       "\n",
       "   car_spaces  land_size  building_size  multiple_floor  issecurity  isgarden  \\\n",
       "0         1.0       60.0           72.0             1.0           1         0   \n",
       "1         1.0       60.0           72.0             1.0           1         0   \n",
       "2         1.0       72.0           40.0             1.0           1         1   \n",
       "3         1.0       72.0          144.0             2.0           1         0   \n",
       "4         1.0       72.0          144.0             2.0           1         1   \n",
       "\n",
       "   isbalcony  iscourtyard                                             lokasi  \\\n",
       "0          0            0      Di lelang cesy cluster delima alsut tangerang   \n",
       "1          0            0  Rumah Minimalis Strategis Dekat Gading Serpong...   \n",
       "2          0            1  Rumah Strategis Harga All In Bisa Nego Dekat G...   \n",
       "3          1            0  Rumah Strategis di Graha Raflesia Citra Raya S...   \n",
       "4          1            0  Rumah Minimalis Strategis di Perum Griya Surad...   \n",
       "\n",
       "         harga  \n",
       "0  535000000.0  \n",
       "1  535000000.0  \n",
       "2  630000000.0  \n",
       "3  840000000.0  \n",
       "4  960000000.0  "
      ]
     },
     "execution_count": 10,
     "metadata": {},
     "output_type": "execute_result"
    }
   ],
   "source": [
    "df.head()"
   ]
  },
  {
   "cell_type": "code",
   "execution_count": 99,
   "id": "52275e12-6d22-4fb9-bfa4-8d0d45b6dac1",
   "metadata": {},
   "outputs": [],
   "source": [
    "df['multiple_floor'] = df['multiple_floor'].astype(float)"
   ]
  },
  {
   "cell_type": "code",
   "execution_count": 256,
   "id": "0a8e03cf-218e-42ef-a517-4bc96a2d62d6",
   "metadata": {},
   "outputs": [
    {
     "data": {
      "text/plain": [
       "1"
      ]
     },
     "execution_count": 256,
     "metadata": {},
     "output_type": "execute_result"
    }
   ],
   "source": [
    "max(df['issecurity'])"
   ]
  },
  {
   "cell_type": "code",
   "execution_count": 116,
   "id": "09cd37a9-cfbd-49c2-9e0d-acfbee4ef6fb",
   "metadata": {},
   "outputs": [],
   "source": []
  },
  {
   "cell_type": "code",
   "execution_count": null,
   "id": "e5cfc5ce-08c7-4806-b857-b9af509e1ea4",
   "metadata": {},
   "outputs": [],
   "source": []
  }
 ],
 "metadata": {
  "kernelspec": {
   "display_name": "Python 3 (ipykernel)",
   "language": "python",
   "name": "python3"
  },
  "language_info": {
   "codemirror_mode": {
    "name": "ipython",
    "version": 3
   },
   "file_extension": ".py",
   "mimetype": "text/x-python",
   "name": "python",
   "nbconvert_exporter": "python",
   "pygments_lexer": "ipython3",
   "version": "3.9.13"
  }
 },
 "nbformat": 4,
 "nbformat_minor": 5
}
