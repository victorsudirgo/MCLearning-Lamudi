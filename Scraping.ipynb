{
 "cells": [
  {
   "cell_type": "code",
   "execution_count": 1,
   "id": "7356da73-7eb4-4ea8-824b-8882ddedd374",
   "metadata": {},
   "outputs": [],
   "source": [
    "from bs4 import BeautifulSoup\n",
    "import time\n",
    "import pandas as pd\n",
    "import numpy as np\n",
    "from selenium import webdriver\n",
    "from selenium.webdriver.support.ui import WebDriverWait\n",
    "from selenium.webdriver.common.by import By\n",
    "from selenium.webdriver.support import expected_conditions as EC\n",
    "from selenium.webdriver.common.action_chains import ActionChains\n",
    "import time"
   ]
  },
  {
   "cell_type": "code",
   "execution_count": 2,
   "id": "fd7dc34f-5373-4873-9e9e-9face8cb8001",
   "metadata": {},
   "outputs": [
    {
     "name": "stderr",
     "output_type": "stream",
     "text": [
      "C:\\Users\\User\\AppData\\Local\\Temp\\ipykernel_72344\\604176478.py:1: DeprecationWarning: executable_path has been deprecated, please pass in a Service object\n",
      "  driver = webdriver.Chrome(\"/usr/lib/chromium-browser/chromedriver\")\n"
     ]
    }
   ],
   "source": [
    "driver = webdriver.Chrome(\"/usr/lib/chromium-browser/chromedriver\")\n",
    "driver.maximize_window()"
   ]
  },
  {
   "cell_type": "code",
   "execution_count": 3,
   "id": "bc37f201-3baa-471c-9f76-c74c11bbf356",
   "metadata": {},
   "outputs": [],
   "source": [
    "links = []\n",
    "for i in range(1,101):\n",
    "    url = f\"https://www.lamudi.co.id/banten/tangerang/house/buy/price:1000000000-1500000000/?page={i}\"\n",
    "    driver.get(url)\n",
    "    elems = WebDriverWait(driver,10).until(EC.presence_of_all_elements_located((By.CSS_SELECTOR, \".ListingCell-MainImage [href]\")))\n",
    "    link = [elem.get_attribute('href') for elem in elems]\n",
    "    links += link"
   ]
  },
  {
   "cell_type": "code",
   "execution_count": 4,
   "id": "2f4393de-8c51-46e2-8940-e536d39eb66e",
   "metadata": {},
   "outputs": [],
   "source": [
    "#Scraping Lamudi per-page\n",
    "\n",
    "#spesifikasi\n",
    "car_spaces = []\n",
    "bedrooms = []\n",
    "bathrooms = []\n",
    "building_size = []\n",
    "land_size = []\n",
    "floors_total = []\n",
    "title = []\n",
    "price = []\n",
    "area = []\n",
    "\n",
    "#fasilitas\n",
    "garden = []\n",
    "courtyard = []\n",
    "security = []\n",
    "balcony = []\n",
    "speklists= []\n",
    "\n",
    "#list column\n",
    "listspesifikasi = ['car_spaces', 'bedrooms','bathrooms','building_size', 'land_size', 'floors_total']\n",
    "listfasilitas = ['courtyard', 'garden','247-security', 'balcony']\n",
    "\n",
    "for url in links:\n",
    "    driver.get(url)\n",
    "    dataspek = driver.find_elements('css selector', '.columns-2 [data-attr-name]')\n",
    "    datafasil = driver.find_elements('css selector', '.listing-amenities-list [data-slug]')\n",
    "    listspesifikasi = ['car_spaces', 'bedrooms','bathrooms','building_size', 'land_size', 'floors_total']\n",
    "    listfasilitas = ['courtyard', 'garden','247-security', 'balcony']\n",
    "    \n",
    "    \n",
    "    try :\n",
    "        location = driver.find_element('xpath', \"//*[@id=\\\"landmarks\\\"]/div/div/p\").text\n",
    "        area.append(location)\n",
    "    except:\n",
    "        area.append(None)\n",
    "        \n",
    "    #for l in listspesifikasi:\n",
    "    speklist = [spek.get_attribute('data-attr-name') for spek in dataspek]\n",
    "    \n",
    "    try:\n",
    "        nama = driver.find_element('xpath', \"/html/body/div[3]/div[2]/div[1]/div[1]/div[2]/div[1]/h1\").text\n",
    "        title.append(nama)\n",
    "    except:\n",
    "        title.append(None)\n",
    "    try:\n",
    "        harga = driver.find_element('xpath', \"/html/body/div[3]/div[2]/div[1]/div[1]/div[2]/div[2]/span[1]\").text\n",
    "        price.append(harga)\n",
    "    except:\n",
    "        price.append(None)\n",
    "        \n",
    "    if(len(speklist) < 1):\n",
    "        row = 0\n",
    "        counter = -1\n",
    "    elif(len(speklist) < 3):\n",
    "        row = 1\n",
    "        counter = 0\n",
    "    elif(len(speklist) < 5):\n",
    "        row = 2\n",
    "        counter = 1\n",
    "    elif(len(speklist) < 7):\n",
    "        row = 3\n",
    "        counter = 2\n",
    "    elif(len(speklist) < 9):\n",
    "        row = 4\n",
    "        counter = 3\n",
    "    elif(len(speklist) < 11): \n",
    "        row = 5\n",
    "        counter = 4\n",
    "    elif(len(speklist) < 13): \n",
    "        row = 6\n",
    "        counter = 5\n",
    "    else:\n",
    "        row = 7\n",
    "        counter = 6\n",
    "\n",
    "    \n",
    "    if(len(speklist) > 0):\n",
    "        for l in listspesifikasi:\n",
    "            if (l not in speklist):\n",
    "                globals()[l].append(None)\n",
    "            else:\n",
    "                continue\n",
    "    else:\n",
    "        for l in listspesifikasi:\n",
    "            globals()[l].append(None)\n",
    "\n",
    "                \n",
    "    speklists.append(len(speklist))\n",
    "    \n",
    "    #melakukan append pada parameter yang ada\n",
    "    #error here\n",
    "    for j in range(1,3):  \n",
    "        for i in range(1,row+1):\n",
    "            if(j==1):\n",
    "                try:\n",
    "                    m = speklist[i-1]\n",
    "                except:\n",
    "                    continue\n",
    "            else:\n",
    "                try: \n",
    "                    m = speklist[i+counter]\n",
    "                except:\n",
    "                    continue\n",
    "            if(m in listspesifikasi):\n",
    "                try:\n",
    "                    t = driver.find_element('xpath', f\"//*[@id=\\\"listing-details\\\"]/div[2]/div/div[{j}]/div[{i}]/div[2]\").text\n",
    "                    globals()[m].append(t)\n",
    "                except:\n",
    "                     globals()[m].append(None)\n",
    "            else:\n",
    "                continue\n",
    "\n",
    "\n",
    "    for l in listfasilitas:\n",
    "        fasillist = [spek.get_attribute('data-slug') for spek in datafasil]\n",
    "        if (l not in fasillist):\n",
    "            if(l == \"247-security\"):\n",
    "                security.append(0)\n",
    "            else:\n",
    "                globals()[l].append(0)\n",
    "        else:\n",
    "            if(l == \"247-security\"):\n",
    "                security.append(1)\n",
    "            else:\n",
    "                globals()[l].append(1)"
   ]
  },
  {
   "cell_type": "code",
   "execution_count": 31,
   "id": "2a93344b-0e7e-4ee5-abe4-324fad48429b",
   "metadata": {},
   "outputs": [
    {
     "name": "stdout",
     "output_type": "stream",
     "text": [
      "3\n"
     ]
    }
   ],
   "source": [
    "#spesifikasi\n",
    "car_spaces = []\n",
    "bedrooms = []\n",
    "bathrooms = []\n",
    "building_size = []\n",
    "land_size = []\n",
    "floors_total = []\n",
    "title = []\n",
    "price = []\n",
    "area = []\n",
    "nama =[]\n",
    "\n",
    "#fasilitas\n",
    "garden = []\n",
    "courtyard = []\n",
    "security = []\n",
    "balcony = []\n",
    "speklists= []\n",
    "\n",
    "url= 'https://www.lamudi.co.id/di-lelang-cesy-cluster-delima-alsut-tangerang.html'\n",
    "driver.get(url)\n",
    "\n",
    "dataspek = driver.find_elements('css selector', '.columns-2 [data-attr-name]')\n",
    "datafasil = driver.find_elements('css selector', '.listing-amenities-list [data-slug]')\n",
    "listspesifikasi = ['car_spaces', 'bedrooms','bathrooms','building_size', 'land_size', 'floors_total']\n",
    "listfasilitas = ['courtyard', 'garden','247-security', 'balcony']\n",
    "\n",
    "#for l in listspesifikasi:\n",
    "speklist = [spek.get_attribute('data-attr-name') for spek in dataspek]\n",
    "\n",
    "location = driver.find_element('xpath', \"//*[@id=\\\"landmarks\\\"]/div/div/p\").text\n",
    "area.append(location)\n",
    "\n",
    "namap = driver.find_element('xpath', \"/html/body/div[3]/div[2]/div[1]/div[1]/div[2]/div[1]/h1\").text\n",
    "\n",
    "nama.append(namap)\n",
    "\n",
    "if(len(speklist) < 3):\n",
    "    row = 1\n",
    "    counter = 0\n",
    "elif(len(speklist) < 5):\n",
    "    row = 2\n",
    "    counter = 1\n",
    "elif(len(speklist) < 7):\n",
    "    row = 3\n",
    "    counter = 2\n",
    "elif(len(speklist) < 9):\n",
    "    row = 4\n",
    "    counter = 3\n",
    "elif(len(speklist) < 11): \n",
    "    row = 5\n",
    "    counter = 4\n",
    "else:\n",
    "    row = 6\n",
    "    counter = 5\n",
    "\n",
    "print(row)\n",
    "\n",
    "if(len(speklist) > 0):\n",
    "    for l in listspesifikasi:\n",
    "        if (l not in speklist):\n",
    "                globals()[l].append(None)\n",
    "else:\n",
    "    for l in listspesifikasi:\n",
    "            globals()[l].append(None)\n",
    "    \n",
    "    \n",
    "#melakukan append pada parameter yang ada\n",
    "#error here\n",
    "for j in range(1,3):  \n",
    "    for i in range(1,row+1):\n",
    "        if(j==1):\n",
    "            try:\n",
    "                m = speklist[i-1]\n",
    "            except:\n",
    "                continue\n",
    "        else:\n",
    "            try: \n",
    "                m = speklist[i+counter]\n",
    "            except:\n",
    "                continue\n",
    "        if(m in listspesifikasi):\n",
    "            try:\n",
    "                t = driver.find_element('xpath', f\"//*[@id=\\\"listing-details\\\"]/div[2]/div/div[{j}]/div[{i}]/div[2]\").text\n",
    "                globals()[m].append(t)\n",
    "            except:\n",
    "                continue\n",
    "        else:\n",
    "            continue\n",
    "\n",
    "\n",
    "for l in listfasilitas:\n",
    "    fasillist = [spek.get_attribute('data-slug') for spek in datafasil]\n",
    "    if (l not in fasillist):\n",
    "        if(l == \"247-security\"):\n",
    "            security.append(0)\n",
    "        else:\n",
    "            globals()[l].append(0)\n",
    "    else:\n",
    "        if(l == \"247-security\"):\n",
    "            security.append(1)\n",
    "        else:\n",
    "            globals()[l].append(1)"
   ]
  },
  {
   "cell_type": "code",
   "execution_count": 5,
   "id": "5b00bdea-6d5c-4251-962b-e5e92f20f4d2",
   "metadata": {},
   "outputs": [
    {
     "name": "stdout",
     "output_type": "stream",
     "text": [
      "3000\n",
      "3000\n",
      "3000\n",
      "3000\n"
     ]
    }
   ],
   "source": [
    "for i in listfasilitas:\n",
    "    if(i == \"247-security\"):\n",
    "        print(len(security))\n",
    "    else:\n",
    "        print(len(globals()[i]))"
   ]
  },
  {
   "cell_type": "code",
   "execution_count": 6,
   "id": "c1eb942b-ceff-4b94-8a4a-0c128586d0a7",
   "metadata": {},
   "outputs": [
    {
     "name": "stdout",
     "output_type": "stream",
     "text": [
      "3000\n",
      "3000\n",
      "3000\n",
      "3000\n",
      "3000\n",
      "3000\n"
     ]
    }
   ],
   "source": [
    "for i in listspesifikasi:\n",
    "    print(len(globals()[i]))"
   ]
  },
  {
   "cell_type": "code",
   "execution_count": 7,
   "id": "5ab3357d-8d97-4cb3-b38c-8ba571a7ad6b",
   "metadata": {},
   "outputs": [],
   "source": [
    "df = pd.DataFrame({'title':title, 'bedrooms':bedrooms, 'bathrooms':bathrooms,  'car_spaces':car_spaces, 'land_size':land_size, 'building_size':building_size, 'multiple_floor':floors_total, 'issecurity':security, 'isgarden':garden, 'isbalcony':balcony, 'iscourtyard':courtyard, 'lokasi': area, 'harga':price})"
   ]
  },
  {
   "cell_type": "code",
   "execution_count": 25,
   "id": "03055efd-b718-4955-ae7a-61bab35ba701",
   "metadata": {},
   "outputs": [
    {
     "data": {
      "text/plain": [
       "490"
      ]
     },
     "execution_count": 25,
     "metadata": {},
     "output_type": "execute_result"
    }
   ],
   "source": [
    "speklists.index(12)"
   ]
  },
  {
   "cell_type": "code",
   "execution_count": 9,
   "id": "8ed09cf3-938d-4ec2-81e8-5fcc697f7440",
   "metadata": {},
   "outputs": [],
   "source": [
    "import pandas as pd\n",
    "df.to_csv('raw_lamudi_tangerang21.csv' ,index=False)"
   ]
  },
  {
   "cell_type": "code",
   "execution_count": 43,
   "id": "8071123f-e109-4718-9cd2-ab6a26763397",
   "metadata": {},
   "outputs": [
    {
     "data": {
      "text/html": [
       "<div>\n",
       "<style scoped>\n",
       "    .dataframe tbody tr th:only-of-type {\n",
       "        vertical-align: middle;\n",
       "    }\n",
       "\n",
       "    .dataframe tbody tr th {\n",
       "        vertical-align: top;\n",
       "    }\n",
       "\n",
       "    .dataframe thead th {\n",
       "        text-align: right;\n",
       "    }\n",
       "</style>\n",
       "<table border=\"1\" class=\"dataframe\">\n",
       "  <thead>\n",
       "    <tr style=\"text-align: right;\">\n",
       "      <th></th>\n",
       "      <th>title</th>\n",
       "      <th>bedrooms</th>\n",
       "      <th>bathrooms</th>\n",
       "      <th>car_spaces</th>\n",
       "      <th>land_size</th>\n",
       "      <th>lb</th>\n",
       "      <th>multiple_floor</th>\n",
       "      <th>issecurity</th>\n",
       "      <th>isgarden</th>\n",
       "      <th>isbalcony</th>\n",
       "      <th>iscourtyard</th>\n",
       "      <th>lokasi</th>\n",
       "      <th>harga</th>\n",
       "    </tr>\n",
       "  </thead>\n",
       "  <tbody>\n",
       "  </tbody>\n",
       "</table>\n",
       "</div>"
      ],
      "text/plain": [
       "Empty DataFrame\n",
       "Columns: [title, bedrooms, bathrooms, car_spaces, land_size, lb, multiple_floor, issecurity, isgarden, isbalcony, iscourtyard, lokasi, harga]\n",
       "Index: []"
      ]
     },
     "execution_count": 43,
     "metadata": {},
     "output_type": "execute_result"
    }
   ],
   "source": [
    "df[df['land_size'] == 'Standard']"
   ]
  },
  {
   "cell_type": "code",
   "execution_count": 15,
   "id": "01e9f533-28db-4d28-8fd2-f12ec0aad1af",
   "metadata": {},
   "outputs": [
    {
     "data": {
      "text/plain": [
       "3000"
      ]
     },
     "execution_count": 15,
     "metadata": {},
     "output_type": "execute_result"
    }
   ],
   "source": [
    "len(links)"
   ]
  },
  {
   "cell_type": "code",
   "execution_count": 23,
   "id": "3f0a274c-b9ef-421b-bcdc-915764be2cc8",
   "metadata": {},
   "outputs": [
    {
     "ename": "IndexError",
     "evalue": "list index out of range",
     "output_type": "error",
     "traceback": [
      "\u001b[1;31m---------------------------------------------------------------------------\u001b[0m",
      "\u001b[1;31mIndexError\u001b[0m                                Traceback (most recent call last)",
      "\u001b[1;32m~\\AppData\\Local\\Temp\\ipykernel_872\\870655386.py\u001b[0m in \u001b[0;36m<module>\u001b[1;34m\u001b[0m\n\u001b[1;32m----> 1\u001b[1;33m \u001b[0mlinks\u001b[0m\u001b[1;33m[\u001b[0m\u001b[1;36m490\u001b[0m\u001b[1;33m]\u001b[0m\u001b[1;33m\u001b[0m\u001b[1;33m\u001b[0m\u001b[0m\n\u001b[0m",
      "\u001b[1;31mIndexError\u001b[0m: list index out of range"
     ]
    }
   ],
   "source": [
    "links[490]"
   ]
  },
  {
   "cell_type": "code",
   "execution_count": 158,
   "id": "d2235c30-2c1e-4082-b637-daeb5ca995b3",
   "metadata": {},
   "outputs": [
    {
     "data": {
      "text/plain": [
       "['117', '180', '120', '193', '162', '117', '120', '180', '162', None]"
      ]
     },
     "execution_count": 158,
     "metadata": {},
     "output_type": "execute_result"
    }
   ],
   "source": [
    "land_size[:10]"
   ]
  },
  {
   "cell_type": "code",
   "execution_count": 8,
   "id": "09b3d02f-3bef-446b-b262-be89983e0f0b",
   "metadata": {},
   "outputs": [
    {
     "data": {
      "text/html": [
       "<div>\n",
       "<style scoped>\n",
       "    .dataframe tbody tr th:only-of-type {\n",
       "        vertical-align: middle;\n",
       "    }\n",
       "\n",
       "    .dataframe tbody tr th {\n",
       "        vertical-align: top;\n",
       "    }\n",
       "\n",
       "    .dataframe thead th {\n",
       "        text-align: right;\n",
       "    }\n",
       "</style>\n",
       "<table border=\"1\" class=\"dataframe\">\n",
       "  <thead>\n",
       "    <tr style=\"text-align: right;\">\n",
       "      <th></th>\n",
       "      <th>title</th>\n",
       "      <th>bedrooms</th>\n",
       "      <th>bathrooms</th>\n",
       "      <th>car_spaces</th>\n",
       "      <th>land_size</th>\n",
       "      <th>building_size</th>\n",
       "      <th>multiple_floor</th>\n",
       "      <th>issecurity</th>\n",
       "      <th>isgarden</th>\n",
       "      <th>isbalcony</th>\n",
       "      <th>iscourtyard</th>\n",
       "      <th>lokasi</th>\n",
       "      <th>harga</th>\n",
       "    </tr>\n",
       "  </thead>\n",
       "  <tbody>\n",
       "    <tr>\n",
       "      <th>0</th>\n",
       "      <td>Rumah 2 Lantai Marbella Premiere Dekat Exit To...</td>\n",
       "      <td>3</td>\n",
       "      <td>2</td>\n",
       "      <td>None</td>\n",
       "      <td>56</td>\n",
       "      <td>75</td>\n",
       "      <td>2</td>\n",
       "      <td>1</td>\n",
       "      <td>1</td>\n",
       "      <td>1</td>\n",
       "      <td>0</td>\n",
       "      <td>Ciledug, Tangerang</td>\n",
       "      <td>Rp 1.104.000.000</td>\n",
       "    </tr>\n",
       "    <tr>\n",
       "      <th>1</th>\n",
       "      <td>Rumah Siap KPR di Pinang Kota Tangerang Harga ...</td>\n",
       "      <td>5</td>\n",
       "      <td>2</td>\n",
       "      <td>1</td>\n",
       "      <td>98</td>\n",
       "      <td>120</td>\n",
       "      <td>None</td>\n",
       "      <td>1</td>\n",
       "      <td>0</td>\n",
       "      <td>0</td>\n",
       "      <td>0</td>\n",
       "      <td>Pinang, Tangerang</td>\n",
       "      <td>Rp 1.140.000.000</td>\n",
       "    </tr>\n",
       "    <tr>\n",
       "      <th>2</th>\n",
       "      <td>Rumah Luas Strategis Siap KPR di Citra Raya Ha...</td>\n",
       "      <td>4</td>\n",
       "      <td>2</td>\n",
       "      <td>1</td>\n",
       "      <td>164</td>\n",
       "      <td>100</td>\n",
       "      <td>1</td>\n",
       "      <td>1</td>\n",
       "      <td>1</td>\n",
       "      <td>0</td>\n",
       "      <td>1</td>\n",
       "      <td>Curug, Tangerang</td>\n",
       "      <td>Rp 1.440.000.000</td>\n",
       "    </tr>\n",
       "    <tr>\n",
       "      <th>3</th>\n",
       "      <td>Rumah Asri Bebas Banjir di Citra Raya Bizhome ...</td>\n",
       "      <td>4</td>\n",
       "      <td>2</td>\n",
       "      <td>1</td>\n",
       "      <td>164</td>\n",
       "      <td>100</td>\n",
       "      <td>1</td>\n",
       "      <td>1</td>\n",
       "      <td>1</td>\n",
       "      <td>0</td>\n",
       "      <td>1</td>\n",
       "      <td>Cikupa, Tangerang</td>\n",
       "      <td>Rp 1.440.000.000</td>\n",
       "    </tr>\n",
       "    <tr>\n",
       "      <th>4</th>\n",
       "      <td>Rumah Strategis Siap Huni Dekat Gading Serpong...</td>\n",
       "      <td>4</td>\n",
       "      <td>2</td>\n",
       "      <td>1</td>\n",
       "      <td>96</td>\n",
       "      <td>110</td>\n",
       "      <td>2</td>\n",
       "      <td>1</td>\n",
       "      <td>1</td>\n",
       "      <td>0</td>\n",
       "      <td>0</td>\n",
       "      <td>Gading Serpong, Tangerang</td>\n",
       "      <td>Rp 1.440.000.000</td>\n",
       "    </tr>\n",
       "    <tr>\n",
       "      <th>...</th>\n",
       "      <td>...</td>\n",
       "      <td>...</td>\n",
       "      <td>...</td>\n",
       "      <td>...</td>\n",
       "      <td>...</td>\n",
       "      <td>...</td>\n",
       "      <td>...</td>\n",
       "      <td>...</td>\n",
       "      <td>...</td>\n",
       "      <td>...</td>\n",
       "      <td>...</td>\n",
       "      <td>...</td>\n",
       "      <td>...</td>\n",
       "    </tr>\n",
       "    <tr>\n",
       "      <th>2995</th>\n",
       "      <td>Dijual Cepat Rumah Di Lavon Swan City Tangerang</td>\n",
       "      <td>3</td>\n",
       "      <td>2</td>\n",
       "      <td>1</td>\n",
       "      <td>101</td>\n",
       "      <td>80</td>\n",
       "      <td>None</td>\n",
       "      <td>0</td>\n",
       "      <td>0</td>\n",
       "      <td>0</td>\n",
       "      <td>0</td>\n",
       "      <td>Pasar Kemis, Tangerang</td>\n",
       "      <td>Rp 1.350.000.000</td>\n",
       "    </tr>\n",
       "    <tr>\n",
       "      <th>2996</th>\n",
       "      <td>RUMAH BARU SEDANG BANGUN PAGEDANGAN</td>\n",
       "      <td>3</td>\n",
       "      <td>3</td>\n",
       "      <td>None</td>\n",
       "      <td>70</td>\n",
       "      <td>50</td>\n",
       "      <td>None</td>\n",
       "      <td>0</td>\n",
       "      <td>0</td>\n",
       "      <td>0</td>\n",
       "      <td>0</td>\n",
       "      <td>Pagedangan, Tangerang</td>\n",
       "      <td>Rp 1.450.000.000</td>\n",
       "    </tr>\n",
       "    <tr>\n",
       "      <th>2997</th>\n",
       "      <td>Dijual Murah Rumah Omaha Village, Gading Serpong</td>\n",
       "      <td>3</td>\n",
       "      <td>3</td>\n",
       "      <td>None</td>\n",
       "      <td>60</td>\n",
       "      <td>89</td>\n",
       "      <td>None</td>\n",
       "      <td>0</td>\n",
       "      <td>0</td>\n",
       "      <td>0</td>\n",
       "      <td>0</td>\n",
       "      <td>Gading Serpong, Tangerang</td>\n",
       "      <td>Rp 1.300.000.000</td>\n",
       "    </tr>\n",
       "    <tr>\n",
       "      <th>2998</th>\n",
       "      <td>Perumahan Bumi Puspitek Asri Tangerang</td>\n",
       "      <td>23</td>\n",
       "      <td>3</td>\n",
       "      <td>1</td>\n",
       "      <td>70</td>\n",
       "      <td>90</td>\n",
       "      <td>None</td>\n",
       "      <td>0</td>\n",
       "      <td>0</td>\n",
       "      <td>0</td>\n",
       "      <td>0</td>\n",
       "      <td>Pagedangan, Tangerang</td>\n",
       "      <td>Rp 1.450.000.000</td>\n",
       "    </tr>\n",
       "    <tr>\n",
       "      <th>2999</th>\n",
       "      <td>Rumah Milano Village Gading Serpong Paramount ...</td>\n",
       "      <td>2</td>\n",
       "      <td>2</td>\n",
       "      <td>1</td>\n",
       "      <td>48</td>\n",
       "      <td>62</td>\n",
       "      <td>None</td>\n",
       "      <td>0</td>\n",
       "      <td>0</td>\n",
       "      <td>0</td>\n",
       "      <td>0</td>\n",
       "      <td>Gading Serpong, Tangerang</td>\n",
       "      <td>Rp 1.250.000.000</td>\n",
       "    </tr>\n",
       "  </tbody>\n",
       "</table>\n",
       "<p>3000 rows × 13 columns</p>\n",
       "</div>"
      ],
      "text/plain": [
       "                                                  title bedrooms bathrooms  \\\n",
       "0     Rumah 2 Lantai Marbella Premiere Dekat Exit To...        3         2   \n",
       "1     Rumah Siap KPR di Pinang Kota Tangerang Harga ...        5         2   \n",
       "2     Rumah Luas Strategis Siap KPR di Citra Raya Ha...        4         2   \n",
       "3     Rumah Asri Bebas Banjir di Citra Raya Bizhome ...        4         2   \n",
       "4     Rumah Strategis Siap Huni Dekat Gading Serpong...        4         2   \n",
       "...                                                 ...      ...       ...   \n",
       "2995    Dijual Cepat Rumah Di Lavon Swan City Tangerang        3         2   \n",
       "2996                RUMAH BARU SEDANG BANGUN PAGEDANGAN        3         3   \n",
       "2997   Dijual Murah Rumah Omaha Village, Gading Serpong        3         3   \n",
       "2998             Perumahan Bumi Puspitek Asri Tangerang       23         3   \n",
       "2999  Rumah Milano Village Gading Serpong Paramount ...        2         2   \n",
       "\n",
       "     car_spaces land_size building_size multiple_floor  issecurity  isgarden  \\\n",
       "0          None        56            75              2           1         1   \n",
       "1             1        98           120           None           1         0   \n",
       "2             1       164           100              1           1         1   \n",
       "3             1       164           100              1           1         1   \n",
       "4             1        96           110              2           1         1   \n",
       "...         ...       ...           ...            ...         ...       ...   \n",
       "2995          1       101            80           None           0         0   \n",
       "2996       None        70            50           None           0         0   \n",
       "2997       None        60            89           None           0         0   \n",
       "2998          1        70            90           None           0         0   \n",
       "2999          1        48            62           None           0         0   \n",
       "\n",
       "      isbalcony  iscourtyard                     lokasi             harga  \n",
       "0             1            0         Ciledug, Tangerang  Rp 1.104.000.000  \n",
       "1             0            0          Pinang, Tangerang  Rp 1.140.000.000  \n",
       "2             0            1           Curug, Tangerang  Rp 1.440.000.000  \n",
       "3             0            1          Cikupa, Tangerang  Rp 1.440.000.000  \n",
       "4             0            0  Gading Serpong, Tangerang  Rp 1.440.000.000  \n",
       "...         ...          ...                        ...               ...  \n",
       "2995          0            0     Pasar Kemis, Tangerang  Rp 1.350.000.000  \n",
       "2996          0            0      Pagedangan, Tangerang  Rp 1.450.000.000  \n",
       "2997          0            0  Gading Serpong, Tangerang  Rp 1.300.000.000  \n",
       "2998          0            0      Pagedangan, Tangerang  Rp 1.450.000.000  \n",
       "2999          0            0  Gading Serpong, Tangerang  Rp 1.250.000.000  \n",
       "\n",
       "[3000 rows x 13 columns]"
      ]
     },
     "execution_count": 8,
     "metadata": {},
     "output_type": "execute_result"
    }
   ],
   "source": [
    "df"
   ]
  },
  {
   "cell_type": "code",
   "execution_count": 24,
   "id": "31abcc81-979c-4dce-8bc4-4f7665d1599c",
   "metadata": {},
   "outputs": [
    {
     "data": {
      "text/plain": [
       "['150', '51', '90', '65', '60', '37', '160', '80', '90', '84']"
      ]
     },
     "execution_count": 24,
     "metadata": {},
     "output_type": "execute_result"
    }
   ],
   "source": [
    "building_size[-10:]"
   ]
  },
  {
   "cell_type": "code",
   "execution_count": 44,
   "id": "1553b21f-bf84-43f2-a0c3-983151cc1153",
   "metadata": {},
   "outputs": [
    {
     "data": {
      "text/plain": [
       "['https://www.lamudi.co.id/rumah-2lt-tipe-84-92-palem-semi-karawaci-166859321729.html',\n",
       " 'https://www.lamudi.co.id/dijual-rumah-di-perumahan-aeroland-residence-jl-halim-perdana-kusuma-tangerang-1.html',\n",
       " 'https://www.lamudi.co.id/jual-rumah-di-perumahan-taman-royal-1-tangerang-ko-165980589039.html',\n",
       " 'https://www.lamudi.co.id/rumah-dijual-di-citra-raya-1820-166425370983.html',\n",
       " 'https://www.lamudi.co.id/dijual-rumah-klasik-modern-2-lt-di-dekat-transjaka-167040762735.html',\n",
       " 'https://www.lamudi.co.id/dijual-rumah-sutera-gardenia-siap-huni-alam-sutera-167077018491.html',\n",
       " 'https://www.lamudi.co.id/dijual-rumah-di-cluster-deviva-bintaro-167059765397.html',\n",
       " 'https://www.lamudi.co.id/dijual-murah-rumah-monaco-gading-serpong-167075840219.html',\n",
       " 'https://www.lamudi.co.id/rumah-tinggal-di-kawasan-premium-greenwich-park-cl-167041038348.html',\n",
       " 'https://www.lamudi.co.id/dijual-rumah-siap-huni-di-banjar-wijaya-1801-166859343057.html']"
      ]
     },
     "execution_count": 44,
     "metadata": {},
     "output_type": "execute_result"
    }
   ],
   "source": [
    "links[-10:]"
   ]
  },
  {
   "cell_type": "code",
   "execution_count": 17,
   "id": "efd40163-5715-4b59-a57b-cd7e9ce51a87",
   "metadata": {},
   "outputs": [
    {
     "data": {
      "text/plain": [
       "[None, None, None, None, None, '1', None, '1', '1', None]"
      ]
     },
     "execution_count": 17,
     "metadata": {},
     "output_type": "execute_result"
    }
   ],
   "source": [
    "car_spaces[-10:]"
   ]
  },
  {
   "cell_type": "code",
   "execution_count": 22,
   "id": "33aba0b5-09a1-438d-9a12-f4f1127ac47c",
   "metadata": {},
   "outputs": [
    {
     "data": {
      "text/plain": [
       "['3', '3', '3', '4', '4', '3', '4', '3', '4', '2']"
      ]
     },
     "execution_count": 22,
     "metadata": {},
     "output_type": "execute_result"
    }
   ],
   "source": [
    "bedrooms[-10:]"
   ]
  },
  {
   "cell_type": "code",
   "execution_count": 49,
   "id": "db6aa8f0-0e49-42c6-8e90-da10fb46d07a",
   "metadata": {},
   "outputs": [
    {
     "data": {
      "text/plain": [
       "['84', '115', '160', '200', '85', '200', '90', '65', '120', '72']"
      ]
     },
     "execution_count": 49,
     "metadata": {},
     "output_type": "execute_result"
    }
   ],
   "source": [
    "building_size[-10:]"
   ]
  }
 ],
 "metadata": {
  "kernelspec": {
   "display_name": "Python 3 (ipykernel)",
   "language": "python",
   "name": "python3"
  },
  "language_info": {
   "codemirror_mode": {
    "name": "ipython",
    "version": 3
   },
   "file_extension": ".py",
   "mimetype": "text/x-python",
   "name": "python",
   "nbconvert_exporter": "python",
   "pygments_lexer": "ipython3",
   "version": "3.9.13"
  }
 },
 "nbformat": 4,
 "nbformat_minor": 5
}
